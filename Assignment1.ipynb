{
  "nbformat": 4,
  "nbformat_minor": 0,
  "metadata": {
    "colab": {
      "provenance": [],
      "authorship_tag": "ABX9TyPXDy7oJk/A16PDFnePaOSg",
      "include_colab_link": true
    },
    "kernelspec": {
      "name": "python3",
      "display_name": "Python 3"
    },
    "language_info": {
      "name": "python"
    }
  },
  "cells": [
    {
      "cell_type": "markdown",
      "metadata": {
        "id": "view-in-github",
        "colab_type": "text"
      },
      "source": [
        "<a href=\"https://colab.research.google.com/github/sooramahesh/Batch_05-AIML/blob/main/Assignment1.ipynb\" target=\"_parent\"><img src=\"https://colab.research.google.com/assets/colab-badge.svg\" alt=\"Open In Colab\"/></a>"
      ]
    },
    {
      "cell_type": "markdown",
      "source": [
        "Assignment_1 PART-1"
      ],
      "metadata": {
        "id": "_oUtcrq9YS2o"
      }
    },
    {
      "cell_type": "code",
      "source": [
        "import numpy as np\n",
        "import pandas as pd\n",
        "import matplotlib.pyplot as plt\n",
        "\n",
        "# 1. Lists\n",
        "list1 = [1, 2, 3, 4]\n",
        "list2 = [5, 6, 7, 8]\n",
        "\n",
        "# 2. Arrays\n",
        "array1 = np.array(list1)\n",
        "array2 = np.array(list2)\n",
        "\n",
        "# 3. Identify their type using type()\n",
        "print(\"Type of array1:\", type(array1))\n",
        "print(\"Type of array2:\", type(array2))\n",
        "\n",
        "# 4. Perform mathematical operations\n",
        "result_multiply = array1 * array2\n",
        "result_divide = array1 / array2\n",
        "result_power = np.power(array1, array2)\n",
        "\n",
        "print(\"Multiplication:\", result_multiply)\n",
        "print(\"Division:\", result_divide)\n",
        "print(\"Power of:\", result_power)\n",
        "\n",
        "# 5. Combine text with Numpy function\n",
        "text_output = np.array2string(result_multiply, separator=' + ')\n",
        "print(\"Addition of Two:\", f\"array1 {text_output} array2\")\n",
        "\n",
        "# 6. Implement np.sin(), log(), log2(), np.exp()\n",
        "result_sin = np.sin(array1)\n",
        "result_log = np.log(array1)\n",
        "result_log2 = np.log2(array1)\n",
        "result_exp = np.exp(array1)\n",
        "\n",
        "print(\"Sin:\", result_sin)\n",
        "print(\"Log:\", result_log)\n",
        "print(\"Log2:\", result_log2)\n",
        "print(\"Exp:\", result_exp)"
      ],
      "metadata": {
        "colab": {
          "base_uri": "https://localhost:8080/"
        },
        "id": "LhPRzgZwYbJ1",
        "outputId": "2deb9e43-872c-4d3c-bef4-daebd6a2ac51"
      },
      "execution_count": 3,
      "outputs": [
        {
          "output_type": "stream",
          "name": "stdout",
          "text": [
            "Type of array1: <class 'numpy.ndarray'>\n",
            "Type of array2: <class 'numpy.ndarray'>\n",
            "Multiplication: [ 5 12 21 32]\n",
            "Division: [0.2        0.33333333 0.42857143 0.5       ]\n",
            "Power of: [    1    64  2187 65536]\n",
            "Addition of Two: array1 [ 5 + 12 + 21 + 32] array2\n",
            "Sin: [ 0.84147098  0.90929743  0.14112001 -0.7568025 ]\n",
            "Log: [0.         0.69314718 1.09861229 1.38629436]\n",
            "Log2: [0.        1.        1.5849625 2.       ]\n",
            "Exp: [ 2.71828183  7.3890561  20.08553692 54.59815003]\n"
          ]
        }
      ]
    }
  ]
}