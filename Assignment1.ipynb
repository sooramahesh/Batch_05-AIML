{
  "nbformat": 4,
  "nbformat_minor": 0,
  "metadata": {
    "colab": {
      "provenance": [],
      "authorship_tag": "ABX9TyPRqOz9e+FQHTcqO9mBGmnd",
      "include_colab_link": true
    },
    "kernelspec": {
      "name": "python3",
      "display_name": "Python 3"
    },
    "language_info": {
      "name": "python"
    }
  },
  "cells": [
    {
      "cell_type": "markdown",
      "metadata": {
        "id": "view-in-github",
        "colab_type": "text"
      },
      "source": [
        "<a href=\"https://colab.research.google.com/github/sooramahesh/Batch_05-AIML/blob/main/Assignment1.ipynb\" target=\"_parent\"><img src=\"https://colab.research.google.com/assets/colab-badge.svg\" alt=\"Open In Colab\"/></a>"
      ]
    },
    {
      "cell_type": "markdown",
      "source": [
        "Assignment_1\n",
        "\n",
        "PART-1"
      ],
      "metadata": {
        "id": "_oUtcrq9YS2o"
      }
    },
    {
      "cell_type": "code",
      "source": [
        "import numpy as np\n",
        "import pandas as pd\n",
        "import matplotlib.pyplot as plt\n",
        "\n",
        "# 1. Lists\n",
        "list1 = [1, 2, 3, 4]\n",
        "list2 = [5, 6, 7, 8]\n",
        "\n",
        "# 2. Arrays\n",
        "array1 = np.array(list1)\n",
        "array2 = np.array(list2)\n",
        "\n",
        "# 3. Identify their type using type()\n",
        "print(\"Type of array1:\", type(array1))\n",
        "print(\"Type of array2:\", type(array2))\n",
        "\n",
        "# 4. Perform mathematical operations\n",
        "result_multiply = array1 * array2\n",
        "result_divide = array1 / array2\n",
        "result_power = np.power(array1, array2)\n",
        "\n",
        "print(\"Multiplication:\", result_multiply)\n",
        "print(\"Division:\", result_divide)\n",
        "print(\"Power of:\", result_power)\n",
        "\n",
        "# 5. Combine text with Numpy function\n",
        "text_output = np.array2string(result_multiply, separator=' + ')\n",
        "print(\"Addition of Two:\", f\"array1 {text_output} array2\")\n",
        "\n",
        "# 6. Implement np.sin(), log(), log2(), np.exp()\n",
        "result_sin = np.sin(array1)\n",
        "result_log = np.log(array1)\n",
        "result_log2 = np.log2(array1)\n",
        "result_exp = np.exp(array1)\n",
        "\n",
        "print(\"Sin:\", result_sin)\n",
        "print(\"Log:\", result_log)\n",
        "print(\"Log2:\", result_log2)\n",
        "print(\"Exp:\", result_exp)"
      ],
      "metadata": {
        "colab": {
          "base_uri": "https://localhost:8080/"
        },
        "id": "LhPRzgZwYbJ1",
        "outputId": "63a75f73-c9e6-4dc6-8c6f-59f1085ea74b"
      },
      "execution_count": 12,
      "outputs": [
        {
          "output_type": "stream",
          "name": "stdout",
          "text": [
            "Type of array1: <class 'numpy.ndarray'>\n",
            "Type of array2: <class 'numpy.ndarray'>\n",
            "Multiplication: [ 5 12 21 32]\n",
            "Division: [0.2        0.33333333 0.42857143 0.5       ]\n",
            "Power of: [    1    64  2187 65536]\n",
            "Addition of Two: array1 [ 5 + 12 + 21 + 32] array2\n",
            "Sin: [ 0.84147098  0.90929743  0.14112001 -0.7568025 ]\n",
            "Log: [0.         0.69314718 1.09861229 1.38629436]\n",
            "Log2: [0.        1.        1.5849625 2.       ]\n",
            "Exp: [ 2.71828183  7.3890561  20.08553692 54.59815003]\n"
          ]
        }
      ]
    },
    {
      "cell_type": "markdown",
      "source": [
        "PART-2"
      ],
      "metadata": {
        "id": "Bj8sfV0la3fH"
      }
    },
    {
      "cell_type": "code",
      "source": [
        "import random\n",
        "import matplotlib.pyplot as plt\n",
        "\n",
        "people = ['kiran', 'arun', 'vijay', 'varun']\n",
        "ages = [25, 30, 35, 40, 45]\n",
        "heights = [145, 151, 165, 173]\n",
        "weights = [45, 55, 65, 75]\n",
        "\n",
        "# Generate random data for each person\n",
        "data = []\n",
        "for person in people:\n",
        "    age = random.choice(ages)\n",
        "    height = random.choice(heights)\n",
        "    weight = random.choice(weights)\n",
        "    data.append({'Person': person, 'Age': age, 'Height': height, 'Weight': weight})\n",
        "\n",
        "# Extracting data for plotting\n",
        "heights = [entry['Height'] for entry in data]\n",
        "weights = [entry['Weight'] for entry in data]\n",
        "ages = [entry['Age'] for entry in data]\n",
        "\n",
        "# Scatter plot\n",
        "plt.figure(figsize=(15, 5))\n",
        "plt.subplot(1, 3, 1)\n",
        "plt.scatter(heights, weights, c='blue', alpha=0.5)\n",
        "plt.title('Height vs Weight')\n",
        "plt.xlabel('Height (cm)')\n",
        "plt.ylabel('Weight (kg)')\n",
        "plt.grid(True)\n",
        "\n",
        "# Bar chart\n",
        "plt.subplot(1, 3, 2)\n",
        "age_counts = {age: ages.count(age) for age in ages}\n",
        "plt.bar(age_counts.keys(), age_counts.values(), color='green')\n",
        "plt.title('Age Distribution')\n",
        "plt.xlabel('Age')\n",
        "plt.ylabel('Frequency')\n",
        "plt.xticks(list(age_counts.keys()))\n",
        "plt.grid(axis='y')\n",
        "\n",
        "# Histogram\n",
        "plt.subplot(1, 3, 3)\n",
        "plt.hist(heights, bins=10, color='orange', edgecolor='black')\n",
        "plt.title('Height Distribution')\n",
        "plt.xlabel('Height (cm)')\n",
        "plt.ylabel('Frequency')\n",
        "plt.grid(axis='y')\n",
        "\n",
        "plt.tight_layout()\n",
        "plt.show()"
      ],
      "metadata": {
        "id": "6zvrlpjpa62S"
      },
      "execution_count": null,
      "outputs": []
    }
  ]
}